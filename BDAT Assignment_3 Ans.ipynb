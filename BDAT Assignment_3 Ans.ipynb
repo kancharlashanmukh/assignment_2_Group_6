{
 "cells": [
  {
   "cell_type": "markdown",
   "metadata": {},
   "source": [
    "# Assignment 3 Iterations, Strings, Files, Lists and Tuples"
   ]
  },
  {
   "cell_type": "markdown",
   "metadata": {},
   "source": [
    "## Chapter 5"
   ]
  },
  {
   "cell_type": "markdown",
   "metadata": {},
   "source": [
    "### Exercise 1"
   ]
  },
  {
   "cell_type": "code",
   "execution_count": null,
   "metadata": {},
   "outputs": [],
   "source": [
    "def computesum(*list):\n",
    "    print(\"count:\",len(list))\n",
    "    sum = 0\n",
    "    for i in range(0, len(list)): \n",
    "        sum = sum + int(list[i]) \n",
    "    return int(sum)\n",
    "\n",
    "list=[]\n",
    "while True:\n",
    "    \n",
    "    print(\"Enter the number:\")\n",
    "    ip_value=input()\n",
    "    \n",
    "    try:\n",
    "        ip_value=int(ip_value)\n",
    "        \n",
    "    except:\n",
    "        if ip_value=='done':\n",
    "            break\n",
    "        print(\"Invalid input\")\n",
    "        continue\n",
    "        \n",
    "    \n",
    "    list.append(ip_value)\n",
    "\n",
    "#print(list)\n",
    "sum = computesum(*list)\n",
    "average = sum / len(list)\n",
    "print(\"sum\",sum)\n",
    "print(\"average\",average)"
   ]
  },
  {
   "cell_type": "markdown",
   "metadata": {},
   "source": [
    "### Exercise 2"
   ]
  },
  {
   "cell_type": "code",
   "execution_count": null,
   "metadata": {},
   "outputs": [],
   "source": [
    "sum = 0\n",
    "max = None\n",
    "min = None\n",
    "while True:\n",
    "    print('Enter a number:')\n",
    "    varinput = input()\n",
    "    if varinput == 'done':\n",
    "        break\n",
    "    try:        \n",
    "        itervar = int(varinput)\n",
    "        \n",
    "        if max is None or itervar > max:\n",
    "            max = itervar\n",
    "        if min is None or itervar < min:\n",
    "            min = itervar\n",
    "        \n",
    "    except:\n",
    "        print(\"Invalid input\")\n",
    "print('max = ',max)\n",
    "print('min = ',min)"
   ]
  },
  {
   "cell_type": "markdown",
   "metadata": {},
   "source": [
    "## Chapter 6"
   ]
  },
  {
   "cell_type": "markdown",
   "metadata": {},
   "source": [
    "### Exercise 5"
   ]
  },
  {
   "cell_type": "code",
   "execution_count": null,
   "metadata": {},
   "outputs": [],
   "source": [
    "st = \"X-DSPAM-Confidence:0.8475\"\n",
    "colon = st.find(\".\")\n",
    "length = len(st)\n",
    "substring = st[colon+1 : length]\n",
    "substring = st.split(\":\")[1]\n",
    "number = float(substring)\n",
    "print(\"Number: \", number)"
   ]
  },
  {
   "cell_type": "markdown",
   "metadata": {},
   "source": [
    "## Chapter 7"
   ]
  },
  {
   "cell_type": "markdown",
   "metadata": {},
   "source": [
    "### Exercise 2"
   ]
  },
  {
   "cell_type": "code",
   "execution_count": null,
   "metadata": {},
   "outputs": [],
   "source": [
    "fhand = open(input('Enter the file name: '))\n",
    "print(fhand)\n",
    "\n",
    "occurence = 0 \n",
    "sum = 0\n",
    "\n",
    "for line in fhand:\n",
    "    if line.find('X-DSPAM-Confidence:') != -1:\n",
    "        indexfrom = line.find('X-DSPAM-Confidence: ')+20\n",
    "        indexto = line.find(' ',indexfrom)\n",
    "        \n",
    "        #print(indexfrom)\n",
    "        #print(indexto)\n",
    "        \n",
    "        trim = float(line[indexfrom:indexto])\n",
    "        \n",
    "        #print(trim)\n",
    "        \n",
    "        occurence = occurence + 1\n",
    "        sum = sum + trim\n",
    "        \n",
    "print('avrg = ',sum/occurence)"
   ]
  },
  {
   "cell_type": "markdown",
   "metadata": {},
   "source": [
    "## Chapter 8"
   ]
  },
  {
   "cell_type": "markdown",
   "metadata": {},
   "source": [
    "### Exercise 4"
   ]
  },
  {
   "cell_type": "code",
   "execution_count": null,
   "metadata": {},
   "outputs": [],
   "source": [
    "fname = input('Enter the file name: ')\n",
    "try:\n",
    "    fhand = open(fname)\n",
    "except:\n",
    "    print('File cannot be opened:', fname)\n",
    "    exit()\n",
    "counts = dict()\n",
    "dup=list()\n",
    "for line in fhand:\n",
    "    words = line.split()\n",
    "    for word in words:\n",
    "        if word not in dup:\n",
    "            dup.append(word)\n",
    "dup=list(dict.fromkeys(dup))\n",
    "dup.sort()\n",
    "print(dup)"
   ]
  },
  {
   "cell_type": "markdown",
   "metadata": {},
   "source": [
    "### Exercise 5"
   ]
  },
  {
   "cell_type": "code",
   "execution_count": null,
   "metadata": {
    "scrolled": true
   },
   "outputs": [],
   "source": [
    "fname = input('Enter the file name: ')\n",
    "count=0\n",
    "try:\n",
    "    fhand = open(fname)\n",
    "except:\n",
    "    print('File cannot be opened:', fname)\n",
    "    exit()\n",
    "count = 0\n",
    "for line in fhand:\n",
    "    words = line.split()\n",
    "    if len(words) < 3 or words[0] != 'From':\n",
    "        continue\n",
    "    print(words[1])\n",
    "    count += 1\n",
    "print('There were %d lines in the file with From as the first word' % count)"
   ]
  },
  {
   "cell_type": "markdown",
   "metadata": {},
   "source": [
    "## Chapter 9"
   ]
  },
  {
   "cell_type": "markdown",
   "metadata": {},
   "source": [
    "### Exercise 4"
   ]
  },
  {
   "cell_type": "code",
   "execution_count": null,
   "metadata": {},
   "outputs": [],
   "source": [
    "dictlist = dict()\n",
    "try:\n",
    "    fhand = open(input('Enter file name: '))\n",
    "except:\n",
    "    print(\"File NA\")\n",
    "    \n",
    "for line in fhand:\n",
    "    if line[:5]!=\"From \":\n",
    "        continue\n",
    "    words = line.split()\n",
    "    \n",
    "    if words[1] not in dictlist:\n",
    "        dictlist[words[1]] = 1\n",
    "    else:\n",
    "        dictlist[words[1]] += 1\n",
    "\n",
    "maxcount = None\n",
    "maxaddress = None\n",
    "for key in dictlist:\n",
    "    if maxcount is None or dictlist[key] > maxcount:\n",
    "        maxcount = dictlist[key]\n",
    "        maxaddress = key\n",
    "        \n",
    "print('Most messages from: ', maxaddress)\n",
    "print('Number of messages: ', maxcount)"
   ]
  },
  {
   "cell_type": "markdown",
   "metadata": {},
   "source": [
    "### Exercise 5"
   ]
  },
  {
   "cell_type": "code",
   "execution_count": null,
   "metadata": {},
   "outputs": [],
   "source": [
    "dictlist = dict()\n",
    "try:\n",
    "    fhand = open(input('Enter file name: '))\n",
    "    #print(fhand)\n",
    "except:\n",
    "    print(\"File NA\")\n",
    "for line in fhand:\n",
    "    if line[:5]!=\"From \":\n",
    "        continue\n",
    "    words = line.split()\n",
    "    indexfrom = words[1].find('@')\n",
    "    indexto = len(words[1])\n",
    "    #print(indexfrom)\n",
    "    #print(indexto)\n",
    "    domain = (words[1][indexfrom + 1: indexto])\n",
    "    #print(domain)\n",
    "    if domain not in dictlist:\n",
    "        dictlist[domain] = 1\n",
    "    else:\n",
    "        dictlist[domain] += 1\n",
    "\n",
    "print(dictlist)"
   ]
  },
  {
   "cell_type": "markdown",
   "metadata": {},
   "source": [
    "## Chapter 10 "
   ]
  },
  {
   "cell_type": "markdown",
   "metadata": {},
   "source": [
    "### Exercise 2"
   ]
  },
  {
   "cell_type": "code",
   "execution_count": null,
   "metadata": {},
   "outputs": [],
   "source": [
    "fname = input('please enter the file name:')\n",
    "fhand = open(fname)\n",
    "\n",
    "wcount = dict()\n",
    "for line in fhand:\n",
    "    if line.startswith('From '):\n",
    "        line = line.rstrip()\n",
    "        words = line.split()\n",
    "#pull the hour out from the 'From ' line by finding the time\n",
    "        time = words[5]\n",
    "#splitting the string a second time using a colon.\n",
    "        timesplit = time.split(':')\n",
    "        hour = timesplit[0]\n",
    "#running count of each \"hour\"\n",
    "        wcount[hour] = wcount.get(hour, 0) +1\n",
    "\n",
    "# print out the counts, sorted by hour\n",
    "tem = list()\n",
    "for k,v in wcount.items():\n",
    "    newpair = (k, v)\n",
    "    tem.append(newpair)\n",
    "result = sorted(tem)\n",
    "#print(result)\n",
    "\n",
    "for counthour in result:\n",
    "    print(counthour[0], counthour[1])"
   ]
  },
  {
   "cell_type": "markdown",
   "metadata": {},
   "source": [
    "### Excercise 3"
   ]
  },
  {
   "cell_type": "code",
   "execution_count": null,
   "metadata": {},
   "outputs": [],
   "source": [
    "import string\n",
    "try:\n",
    "    fhand = open(input('Enter file name: '))\n",
    "    words = fhand.read()\n",
    "except:\n",
    "    print(\"File not available\")\n",
    "wordlist = dict()\n",
    "for word in words:\n",
    "    if word not in string.punctuation and word not in '0123456789\\n ':\n",
    "        word2 = word.lower()\n",
    "        if word2 not in wordlist:\n",
    "            wordlist[word2] = 1\n",
    "        else:\n",
    "            wordlist[word2] += 1\n",
    "\n",
    "revwordlist = list()\n",
    "tempwordlist = list(wordlist.items())\n",
    "\n",
    "for a,b in tempwordlist:\n",
    "    revwordlist.append((b,a))\n",
    "\n",
    "revwordlist.sort(reverse = True)\n",
    "print(revwordlist)\n"
   ]
  }
 ],
 "metadata": {
  "kernelspec": {
   "display_name": "Python 3",
   "language": "python",
   "name": "python3"
  },
  "language_info": {
   "codemirror_mode": {
    "name": "ipython",
    "version": 3
   },
   "file_extension": ".py",
   "mimetype": "text/x-python",
   "name": "python",
   "nbconvert_exporter": "python",
   "pygments_lexer": "ipython3",
   "version": "3.7.3"
  }
 },
 "nbformat": 4,
 "nbformat_minor": 2
}
