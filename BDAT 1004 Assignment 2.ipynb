{
 "cells": [
  {
   "cell_type": "markdown",
   "metadata": {},
   "source": [
    "# Assignment 2 Variables, Conditions and Functions "
   ]
  },
  {
   "cell_type": "markdown",
   "metadata": {},
   "source": [
    "## Chapter 2"
   ]
  },
  {
   "cell_type": "markdown",
   "metadata": {},
   "source": [
    "### Exercise 2: Write a program that uses input to prompt a user for their name and then welcomes them."
   ]
  },
  {
   "cell_type": "code",
   "execution_count": 1,
   "metadata": {},
   "outputs": [
    {
     "name": "stdout",
     "output_type": "stream",
     "text": [
      "Group 6 asks your name:\n",
      "shanmukh\n",
      "welcome shanmukh\n"
     ]
    }
   ],
   "source": [
    "print(\"Group 6 asks your name:\")\n",
    "name=input()\n",
    "print(\"welcome \"+name)\n"
   ]
  },
  {
   "cell_type": "markdown",
   "metadata": {},
   "source": [
    "### Exercise 3: Write a program to prompt the user for hours and rate per hour to compute gross pay."
   ]
  },
  {
   "cell_type": "code",
   "execution_count": 13,
   "metadata": {},
   "outputs": [
    {
     "name": "stdout",
     "output_type": "stream",
     "text": [
      "Enter your hours of work\n",
      "2\n",
      "Enter rate per hour\n",
      "3.2\n",
      "your gross pay: 6.4\n"
     ]
    }
   ],
   "source": [
    "print(\"Enter your hours of work\")\n",
    "hours=float(input())\n",
    "print(\"Enter rate per hour\")\n",
    "rate=float(input())\n",
    "print(\"your gross pay:\", hours*rate)\n"
   ]
  },
  {
   "cell_type": "markdown",
   "metadata": {},
   "source": [
    "### Exercise 4: Assume that we execute the following assignment statements:"
   ]
  },
  {
   "cell_type": "code",
   "execution_count": 1,
   "metadata": {},
   "outputs": [
    {
     "name": "stdout",
     "output_type": "stream",
     "text": [
      "width//2 = 8\n",
      "<class 'int'>\n",
      "width/2.0 =8.5\n",
      "<class 'float'>\n",
      "height/3 = 4.0\n",
      "<class 'float'>\n",
      "1 + 2*5 = 11\n",
      "<class 'int'>\n"
     ]
    }
   ],
   "source": [
    "width = 17\n",
    "height = 12.0\n",
    "a = width//2\n",
    "b = width/2.0\n",
    "c = height/3\n",
    "d = 1 + 2*5\n",
    "print (\"width//2 = \"+str(a))\n",
    "print (type(a))\n",
    "print (\"width/2.0 =\"+str(b))\n",
    "print (type(b))\n",
    "print (\"height/3 = \"+str(c))\n",
    "print (type(c))\n",
    "print (\"1 + 2*5 = \"+str(d))\n",
    "print (type(d))"
   ]
  },
  {
   "cell_type": "markdown",
   "metadata": {},
   "source": [
    "### Exercise 5: Write a program which prompts the user for a Celsius temperature, convert the temperature to Fahrenheit, and print out the\n",
    "### converted temperature."
   ]
  },
  {
   "cell_type": "code",
   "execution_count": 14,
   "metadata": {},
   "outputs": [
    {
     "name": "stdout",
     "output_type": "stream",
     "text": [
      "Enter Celsius Temperature\n",
      "35\n",
      "Fahrenheit Temperature 95.0\n"
     ]
    }
   ],
   "source": [
    "print(\"Enter Celsius Temperature\")\n",
    "celsiusTemp=float(input())\n",
    "print(\"Fahrenheit Temperature\",9/5*celsiusTemp+32)"
   ]
  },
  {
   "cell_type": "markdown",
   "metadata": {},
   "source": [
    "## Chapter 3"
   ]
  },
  {
   "cell_type": "markdown",
   "metadata": {},
   "source": [
    "### Exercise 1: Rewrite your pay computation to give the employee 1.5 times the hourly rate for hours worked above 40 hours."
   ]
  },
  {
   "cell_type": "code",
   "execution_count": 16,
   "metadata": {},
   "outputs": [
    {
     "name": "stdout",
     "output_type": "stream",
     "text": [
      "Enter your hours of work\n",
      "45\n",
      "Enter rate per hour\n",
      "10\n",
      "Your Gross Pay: 475.0\n"
     ]
    }
   ],
   "source": [
    "print(\"Enter your hours of work\")\n",
    "hours=float(input())\n",
    "print(\"Enter rate per hour\")\n",
    "rate=float(input())\n",
    "if hours>40:\n",
    "    pay = (hours-40)*rate*1.5 + 40*rate\n",
    "else:\n",
    "    pay = hours*rate\n",
    "print (\"Your Gross Pay: \"+str(pay))"
   ]
  },
  {
   "cell_type": "markdown",
   "metadata": {},
   "source": [
    "### Exercise 2: Rewrite your pay program using try and except so that your program handles non-numeric input gracefully by printing a message and exiting the program. The following shows two executions of the program:"
   ]
  },
  {
   "cell_type": "code",
   "execution_count": 19,
   "metadata": {},
   "outputs": [
    {
     "name": "stdout",
     "output_type": "stream",
     "text": [
      "Enter your hours of work\n",
      "a\n",
      "Invalid input\n"
     ]
    }
   ],
   "source": [
    "print(\"Enter your hours of work\")\n",
    "try:\n",
    "    hours=float(input())\n",
    "    print(\"Enter rate per hour\")\n",
    "    rate=float(input())\n",
    "    if hours>40:\n",
    "        pay = (hours-40)*rate*1.5 + 40*rate\n",
    "    else:\n",
    "        pay = hours*rate\n",
    "    print (\"Your Gross Pay: \"+str(pay))    \n",
    "except ValueError:\n",
    "    print(\"Invalid input\")"
   ]
  },
  {
   "cell_type": "markdown",
   "metadata": {},
   "source": [
    "### Exercise 3: Write a program to prompt for a score between 0.0 and 1.0. If the score is out of range, print an error message. If the score is between 0.0 and 1.0, print a grade using the following table:"
   ]
  },
  {
   "cell_type": "code",
   "execution_count": 23,
   "metadata": {},
   "outputs": [
    {
     "name": "stdout",
     "output_type": "stream",
     "text": [
      "Enter score: \n",
      "a\n",
      "Bad score\n"
     ]
    }
   ],
   "source": [
    "print (\"Enter score: \")\n",
    "try:\n",
    "    score = float(input())\n",
    "    if (1>=score) and (score >=0.9):\n",
    "        print (\"A\")\n",
    "    elif (0.9>score) and (score >=0.8):\n",
    "        print (\"B\")\n",
    "    elif (0.8>score) and (score >=0.7):\n",
    "        print (\"C\")\n",
    "    elif (0.7>score) and (score >=0.6):\n",
    "        print (\"D\")\n",
    "    elif (0.6>score) and (score >=0):\n",
    "        print (\"F\")\n",
    "    else:\n",
    "        print (\"Bad score\")\n",
    "except:\n",
    "    print (\"Bad score\")"
   ]
  },
  {
   "cell_type": "markdown",
   "metadata": {},
   "source": []
  },
  {
   "cell_type": "markdown",
   "metadata": {},
   "source": [
    "## Chapter 4"
   ]
  },
  {
   "cell_type": "markdown",
   "metadata": {},
   "source": [
    "### Exercise 5: What will the following Python program print out? (See textbook page 54)\n",
    "### def fred():\n",
    "###     print(\"Zap\")\n",
    "### def jane():\n",
    "###     print(\"ABC\")"
   ]
  },
  {
   "cell_type": "code",
   "execution_count": 29,
   "metadata": {},
   "outputs": [
    {
     "name": "stdout",
     "output_type": "stream",
     "text": [
      "ABC\n",
      "Zap\n",
      "ABC\n"
     ]
    }
   ],
   "source": [
    "def fred():\n",
    "    print(\"Zap\")\n",
    "def jane():\n",
    "    print(\"ABC\")\n",
    "jane()\n",
    "fred()\n",
    "jane()\n"
   ]
  },
  {
   "cell_type": "markdown",
   "metadata": {},
   "source": [
    "### Exercise 6: Rewrite your pay computation with time-and-a-half for over-time and create a function called computepay which takes two parameters (hours and rate)."
   ]
  },
  {
   "cell_type": "code",
   "execution_count": 31,
   "metadata": {},
   "outputs": [
    {
     "name": "stdout",
     "output_type": "stream",
     "text": [
      "Enter hours: \n",
      "10\n",
      "Enter rate: \n",
      "a\n",
      "Invalid input\n"
     ]
    }
   ],
   "source": [
    "def computepay(hours,rate):\n",
    "    \n",
    "    if hours>40:\n",
    "        pay = (hours-40)*rate*1.5 + 40*rate\n",
    "    else:\n",
    "        pay = hours*rate\n",
    "    print (\"Pay: \"+str(pay))\n",
    "\n",
    "try:\n",
    "    print (\"Enter hours: \")\n",
    "    hours = float(input())\n",
    "    print (\"Enter rate: \")\n",
    "    rate = float(input())\n",
    "    \n",
    "    computepay(hours,rate)\n",
    "except:\n",
    "    print(\"Invalid input\")"
   ]
  },
  {
   "cell_type": "markdown",
   "metadata": {},
   "source": [
    "### Exercise 7: Rewrite the grade program from the previous chapter using a function called computegrade that takes a score as its parameter and returns a grade as a string."
   ]
  },
  {
   "cell_type": "code",
   "execution_count": 33,
   "metadata": {},
   "outputs": [
    {
     "name": "stdout",
     "output_type": "stream",
     "text": [
      "Enter score: \n",
      "s\n",
      "Bad score (invalid input)\n"
     ]
    }
   ],
   "source": [
    "def computegrade(score):\n",
    " \n",
    "    if (1>=score) and (score >=0.9):\n",
    "        print (\"A\")\n",
    "    elif (0.9>score) and (score >=0.8):\n",
    "        print (\"B\")\n",
    "    elif (0.8>score) and (score >=0.7):\n",
    "        print (\"C\")\n",
    "    elif (0.7>score) and (score >=0.6):\n",
    "        print (\"D\")\n",
    "    elif (0.6>score) and (score >=0):\n",
    "        print (\"F\")\n",
    "    else:\n",
    "        print (\"Bad score\")\n",
    "\n",
    "try:\n",
    "    print (\"Enter score: \")\n",
    "    score = float(input())\n",
    "    computegrade(score)\n",
    "except:\n",
    "    print (\"Bad score (invalid input)\")"
   ]
  }
 ],
 "metadata": {
  "kernelspec": {
   "display_name": "Python 3",
   "language": "python",
   "name": "python3"
  },
  "language_info": {
   "codemirror_mode": {
    "name": "ipython",
    "version": 3
   },
   "file_extension": ".py",
   "mimetype": "text/x-python",
   "name": "python",
   "nbconvert_exporter": "python",
   "pygments_lexer": "ipython3",
   "version": "3.7.3"
  }
 },
 "nbformat": 4,
 "nbformat_minor": 2
}
